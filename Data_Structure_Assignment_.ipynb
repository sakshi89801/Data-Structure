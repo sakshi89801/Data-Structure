{
  "nbformat": 4,
  "nbformat_minor": 0,
  "metadata": {
    "colab": {
      "provenance": []
    },
    "kernelspec": {
      "name": "python3",
      "display_name": "Python 3"
    },
    "language_info": {
      "name": "python"
    }
  },
  "cells": [
    {
      "cell_type": "markdown",
      "source": [
        "1. What are Data Structures and Why Important?\n",
        "\n",
        "Data structures are ways to store and organize data in a program.\n",
        "They help us store, search, update, and manage data easily.\n",
        "Example:List → for storing a list of names\n",
        "Dictionary → for storing key-value pairs like {name: \"Sakshi\"}\n"
      ],
      "metadata": {
        "id": "CDRf00l8Rtty"
      }
    },
    {
      "cell_type": "markdown",
      "source": [
        "2. Explain the difference between mutable and immutable data types with examples\n",
        "\n",
        "   Mutable You can change the data after creating it.\n",
        "   Immutable You cannot change it once created.\n",
        "   Example - list1 = [1, 2, 3]    Mutable, list1[0] = 10        Changed\n",
        "            tuple1 = (1, 2, 3)   Immutable,tuple1[0] = 10       Error Appears"
      ],
      "metadata": {
        "id": "oYVGTPXkSL2d"
      }
    },
    {
      "cell_type": "markdown",
      "source": [
        "3. What are the main differences between lists and tuples in Python3\n"
      ],
      "metadata": {
        "id": "c9ehFtVyS_rx"
      }
    },
    {
      "cell_type": "markdown",
      "source": [
        "4.Describe how dictionaries store data\n",
        "Dictionaries store data in key-value pairs using a hash table behind the scenes.\n",
        "Example:\n",
        "student = {'name': 'Sakshi', 'age': 20}"
      ],
      "metadata": {
        "id": "Bav6el4OTYvt"
      }
    },
    {
      "cell_type": "markdown",
      "source": [
        "5. Why might you use a set instead of a list in Python?\n",
        "\n",
        " -To remove duplicates automatically.\n",
        " -For fast membership testing (in keyword).\n",
        " -Unordered collection of unique elements.\n",
        "\n",
        " ex- s = set([1, 2, 2, 3])  # {1, 2, 3}"
      ],
      "metadata": {
        "id": "TyLkg714ULpV"
      }
    },
    {
      "cell_type": "markdown",
      "source": [
        "6. What is a string in Python, and how is it different from a list\n",
        "\n",
        "A string is an immutable sequence of characters: \"hello\"\n",
        "\n",
        "A list is a mutable sequence of items: [\"h\", \"e\", \"l\", \"l\", \"o\"]\n",
        "\n",
        "Strings can’t be modified; lists can.\n",
        "\n"
      ],
      "metadata": {
        "id": "0Dzp43s1Upc6"
      }
    },
    {
      "cell_type": "markdown",
      "source": [
        "7.How do tuples ensure data integrity in Python\n",
        "  \n",
        "  Tuples are immutable, their content cannot be changed after creation, making them useful for:Secure data,Dictionary keys,Fixed configurations\n"
      ],
      "metadata": {
        "id": "y4GqZca5U8Vk"
      }
    },
    {
      "cell_type": "markdown",
      "source": [
        "8. What is a hash table, and how does it relate to dictionaries in Python?\n",
        "\n",
        "A hash table maps keys to values using a hash function.Dictionaries in Python are implemented using hash tables to allow Fast lookup,Insertion and deletion in average O(1) time"
      ],
      "metadata": {
        "id": "PqH8uVg-VXq8"
      }
    },
    {
      "cell_type": "markdown",
      "source": [
        "9.Can lists contain different data types in Python?\n",
        "\n",
        "Yes. Python lists are heterogeneous they can contain different types in python\n",
        "Example-l = [1, \"hello\", 3.14, True]"
      ],
      "metadata": {
        "id": "DrflwvYwVsNQ"
      }
    },
    {
      "cell_type": "markdown",
      "source": [
        "10.  Explain why strings are immutable in Python\n",
        "\n",
        "Strings are immutable because it allows safe sharing between parts of a program.\n",
        "Makes them hashable for use as dictionary keys and reduces bugs and improves performance."
      ],
      "metadata": {
        "id": "kahoLhi5V7YU"
      }
    },
    {
      "cell_type": "markdown",
      "source": [
        "11. What advantages do dictionaries offer over lists for certain tasks?\n",
        "\n",
        " The advantage over list that they are :\n",
        " Fast lookup by key\n",
        " Semantic meaning via key-value pairs\n",
        " Better for structured data\n",
        " Example -  \n",
        " Dictionary -user = {'name': 'Sakshi', 'age': 20}\n",
        " List - user = ['Sakshi', 20]"
      ],
      "metadata": {
        "id": "kEPQn63yV5FM"
      }
    },
    {
      "cell_type": "markdown",
      "source": [
        " 13.How do sets handle duplicate values in Python?\n",
        "\n",
        "Sets ignore duplicates:\n",
        "Example - s = set([1, 2, 2, 3])  # Result: {1, 2, 3}"
      ],
      "metadata": {
        "id": "nVJne5eOWysv"
      }
    },
    {
      "cell_type": "markdown",
      "source": [
        "14 . How does the “in” keyword work differently for lists and dictionaries?\n",
        "\n",
        "List: Checks if item is in values.\n",
        "Dict: Checks if item is a key.\n",
        "2 in [1, 2, 3]         True\n",
        "'name' in {'name': 'Sakshi'}   True\n",
        "'Sakshi' in dict      False (not a key)\n"
      ],
      "metadata": {
        "id": "E3tI4Gj4Xpl0"
      }
    },
    {
      "cell_type": "markdown",
      "source": [
        "15 . Can you modify the elements of a tuple? Explain why or why not\n",
        "\n",
        "No, tuples are immutable, so you can not change their contents:\n",
        "t = (1, 2)\n",
        "t[0] = 5  # Error\n"
      ],
      "metadata": {
        "id": "hC-fm-WPYAld"
      }
    },
    {
      "cell_type": "markdown",
      "source": [
        "16.  What is a Nested Dictionary ,and give an example of its use case ?\n",
        "\n",
        "A nested dictionary means a dictionary inside another dictionary.\n",
        "It helps when you want to store detailed data for each item\n",
        "Example -\n",
        "students = {\n",
        "    \"121\": {\"name\": \"Sakshi\", \"age\": 20}\n",
        "}"
      ],
      "metadata": {
        "id": "CJbPVNQqYRm7"
      }
    },
    {
      "cell_type": "markdown",
      "source": [
        "17. Describe the time complexity of accessing elements in a dictionary ?\n",
        "\n",
        "When you get a value using a key in a dictionary, it is very fast.\n",
        "This speed is because of a system called hashing.\n",
        "Dictionaries are faster than lists when searching using a key."
      ],
      "metadata": {
        "id": "hd-S8fyoZEng"
      }
    },
    {
      "cell_type": "markdown",
      "source": [
        "18. In what situations are lists preferred over dictionaries ?\n",
        "\n",
        "we use list when data is simple and order matters.\n",
        "Use dictionary when you want to label your data with keys.\n",
        "Use a list when:\n",
        "Only need to store values in order\n",
        "Don't need key names\n",
        "Just want to loop through items"
      ],
      "metadata": {
        "id": "RMSQARqnZdNL"
      }
    },
    {
      "cell_type": "markdown",
      "source": [
        "19. Why Are Dictionaries Called Unordered?\n",
        "\n",
        " In Python 3.6 When we added items to a dictionary, Python didn’t remember the order.Example: If you added name first and age second, it might show age first and name second.\n",
        "\n",
        " In Python 3.7 onwards:\n",
        " Python remembers the order in which you added items.\n",
        " So now, dictionaries keep the order, but they are still not sorted automatically."
      ],
      "metadata": {
        "id": "DcqfBTlsaEUL"
      }
    },
    {
      "cell_type": "markdown",
      "source": [
        "20. hy are dictionaries considered unordered, and how does that affect data retrieval?\n",
        "\n",
        " Main Difference:\n",
        "In a list, we get data by index number position\n",
        "In a dictionary, we get data by key name"
      ],
      "metadata": {
        "id": "FwjH613natBA"
      }
    },
    {
      "cell_type": "code",
      "source": [
        "#1.Write a code to create a string with your name and print it?\n",
        "\n",
        "my_name = \"Sakshi Singh\"\n",
        "print(\"My name is:\", my_name)\n"
      ],
      "metadata": {
        "colab": {
          "base_uri": "https://localhost:8080/"
        },
        "id": "huCSrmZebEGA",
        "outputId": "bf1eefbf-3bf3-463f-cd76-980d63d0f1f1"
      },
      "execution_count": 1,
      "outputs": [
        {
          "output_type": "stream",
          "name": "stdout",
          "text": [
            "My name is: Sakshi Singh\n"
          ]
        }
      ]
    },
    {
      "cell_type": "code",
      "source": [
        "#2. Write a code to find the length of the string \"Hello World\"P?\n",
        "\n",
        "text = \"Hello World\"\n",
        "length = len(text)\n",
        "print(\"Length of the string is:\", length)"
      ],
      "metadata": {
        "colab": {
          "base_uri": "https://localhost:8080/"
        },
        "id": "R8WDIiiKbtWN",
        "outputId": "7e1e9897-61fa-4393-e037-ab5056742adf"
      },
      "execution_count": 2,
      "outputs": [
        {
          "output_type": "stream",
          "name": "stdout",
          "text": [
            "Length of the string is: 11\n"
          ]
        }
      ]
    },
    {
      "cell_type": "code",
      "source": [
        "#3. Write a code to slice the first 3 characters from the string \"Python Programming\"P?\n",
        "\n",
        "text = \"Python Programming\"\n",
        "\n",
        "sliced_text = text[:3]\n",
        "print(\"First 3 characters are:\", sliced_text)\n"
      ],
      "metadata": {
        "colab": {
          "base_uri": "https://localhost:8080/"
        },
        "id": "X84BhWa_cAwM",
        "outputId": "80d97a9c-f9fb-40b0-9127-a546ac9c95dc"
      },
      "execution_count": 3,
      "outputs": [
        {
          "output_type": "stream",
          "name": "stdout",
          "text": [
            "First 3 characters are: Pyt\n"
          ]
        }
      ]
    },
    {
      "cell_type": "code",
      "source": [
        "#4.Write a code to convert the string \"hello\" to uppercaseP?\n",
        "\n",
        "text = \"hello\"\n",
        "uppercase_text = text.upper()\n",
        "print(\"Uppercase string:\", uppercase_text)"
      ],
      "metadata": {
        "colab": {
          "base_uri": "https://localhost:8080/"
        },
        "id": "Qan5FxFncLwU",
        "outputId": "05cfe048-4468-48ee-cdbc-e2344f1c711c"
      },
      "execution_count": 4,
      "outputs": [
        {
          "output_type": "stream",
          "name": "stdout",
          "text": [
            "Uppercase string: HELLO\n"
          ]
        }
      ]
    },
    {
      "cell_type": "code",
      "source": [
        "#5. Write a code to replace the word \"apple\" with \"orange\" in the string \"I like apple\"P?\n",
        "text = \"I like apple\"\n",
        "new_text = text.replace(\"apple\", \"orange\")\n",
        "print(\"Updated string:\", new_text)"
      ],
      "metadata": {
        "colab": {
          "base_uri": "https://localhost:8080/"
        },
        "id": "RzOlRtcqc1ME",
        "outputId": "ccc3dbcc-04c5-44fe-d4cf-366fa0973691"
      },
      "execution_count": 5,
      "outputs": [
        {
          "output_type": "stream",
          "name": "stdout",
          "text": [
            "Updated string: I like orange\n"
          ]
        }
      ]
    },
    {
      "cell_type": "code",
      "source": [
        "#6. Write a code to create a list with numbers 1 to 5 and print it?\n",
        "numbers = [1, 2, 3, 4, 5]\n",
        "print(\"List of numbers:\", numbers)"
      ],
      "metadata": {
        "colab": {
          "base_uri": "https://localhost:8080/"
        },
        "id": "tRfyV3cNdGoB",
        "outputId": "39610cda-5582-4840-9b25-62ed383ac099"
      },
      "execution_count": 6,
      "outputs": [
        {
          "output_type": "stream",
          "name": "stdout",
          "text": [
            "List of numbers: [1, 2, 3, 4, 5]\n"
          ]
        }
      ]
    },
    {
      "cell_type": "code",
      "source": [
        "#7. Write a code to append the number 10 to the list [1, 2, 3, 4]?\n",
        "my_list = [1, 2, 3, 4]\n",
        "my_list.append(10)\n",
        "print(\"Updated list:\", my_list)"
      ],
      "metadata": {
        "colab": {
          "base_uri": "https://localhost:8080/"
        },
        "id": "YU75jjngdPeH",
        "outputId": "ac18f07d-eb00-4709-ed6c-0cb18082a881"
      },
      "execution_count": 7,
      "outputs": [
        {
          "output_type": "stream",
          "name": "stdout",
          "text": [
            "Updated list: [1, 2, 3, 4, 10]\n"
          ]
        }
      ]
    },
    {
      "cell_type": "code",
      "source": [
        "#8. Write a code to remove the number 3 from the list [1, 2, 3, 4, 5]\n",
        "my_list = [1, 2, 3, 4, 5]\n",
        "my_list.remove(3)\n",
        "print(\"List after removed 3:\", my_list)"
      ],
      "metadata": {
        "colab": {
          "base_uri": "https://localhost:8080/"
        },
        "id": "zbSz32lYdeDI",
        "outputId": "3846b4a9-d55e-46ca-e8cc-fc0149deca4b"
      },
      "execution_count": 9,
      "outputs": [
        {
          "output_type": "stream",
          "name": "stdout",
          "text": [
            "List after removed 3: [1, 2, 4, 5]\n"
          ]
        }
      ]
    },
    {
      "cell_type": "code",
      "source": [
        "#9. Write a code to access the second element in the list ['a', 'b', 'c', 'd']?\n",
        "letters = ['a', 'b', 'c', 'd']\n",
        "second_element = letters[1]\n",
        "print(\"Second element :\", second_element)"
      ],
      "metadata": {
        "colab": {
          "base_uri": "https://localhost:8080/"
        },
        "id": "vIorZhCkd4QB",
        "outputId": "8b643c50-a6bd-4643-ea9f-fafb866716f7"
      },
      "execution_count": 10,
      "outputs": [
        {
          "output_type": "stream",
          "name": "stdout",
          "text": [
            "Second element : b\n"
          ]
        }
      ]
    },
    {
      "cell_type": "code",
      "source": [
        "#10. Write a code to reverse the list [10, 20, 30, 40, 50].\n",
        "my_list = [10, 20, 30, 40, 50]\n",
        "my_list.reverse()\n",
        "print(\"Reversed list:\", my_list)"
      ],
      "metadata": {
        "colab": {
          "base_uri": "https://localhost:8080/"
        },
        "id": "f9x_7s7geH9e",
        "outputId": "fa561eb8-023c-4240-892d-0c666630a1f8"
      },
      "execution_count": 11,
      "outputs": [
        {
          "output_type": "stream",
          "name": "stdout",
          "text": [
            "Reversed list: [50, 40, 30, 20, 10]\n"
          ]
        }
      ]
    },
    {
      "cell_type": "code",
      "source": [
        "#11.Write a code to create a tuple with the elements 100, 200, 300 and print it.\n",
        "my_tuple = (100, 200, 300)\n",
        "print(\"Tuple:\", my_tuple)"
      ],
      "metadata": {
        "colab": {
          "base_uri": "https://localhost:8080/"
        },
        "id": "ia_5Pu5TemVw",
        "outputId": "96d511b6-2c5f-459b-f8ad-57cecfe65102"
      },
      "execution_count": 12,
      "outputs": [
        {
          "output_type": "stream",
          "name": "stdout",
          "text": [
            "Tuple: (100, 200, 300)\n"
          ]
        }
      ]
    },
    {
      "cell_type": "code",
      "source": [
        "#12. Write a code to access the second-to-last element of the tuple ('red', 'green', 'blue', 'yellow')\n",
        "colors = ('red', 'green', 'blue', 'yellow')\n",
        "second_last = colors[-2]\n",
        "print(\"Second tolast element:\", second_last)"
      ],
      "metadata": {
        "colab": {
          "base_uri": "https://localhost:8080/"
        },
        "id": "ygS-Iu3tettw",
        "outputId": "64bcbca4-4293-4f19-b49c-37ef66f57f22"
      },
      "execution_count": 14,
      "outputs": [
        {
          "output_type": "stream",
          "name": "stdout",
          "text": [
            "Second tolast element: blue\n"
          ]
        }
      ]
    },
    {
      "cell_type": "code",
      "source": [
        "#13. Write a code to find the minimum number in the tuple (10, 20, 5, 15).\n",
        "numbers = (10, 20, 5, 15)\n",
        "minimum = min(numbers)\n",
        "print(\"Minimum number:\", minimum)"
      ],
      "metadata": {
        "colab": {
          "base_uri": "https://localhost:8080/"
        },
        "id": "WY0FU_QofB_M",
        "outputId": "1e2fa2f4-6d0b-46f9-cf02-513eb8958dec"
      },
      "execution_count": 15,
      "outputs": [
        {
          "output_type": "stream",
          "name": "stdout",
          "text": [
            "Minimum number: 5\n"
          ]
        }
      ]
    },
    {
      "cell_type": "code",
      "source": [
        "#14. Write a code to find the index of the element \"cat\" in the tuple ('dog', 'cat', 'rabbit').\n",
        "animals = ('dog', 'cat', 'rabbit')\n",
        "index_cat = animals.index('cat')\n",
        "print(\"Index of cat:\", index_cat)"
      ],
      "metadata": {
        "colab": {
          "base_uri": "https://localhost:8080/"
        },
        "id": "R1lSt42kfKaV",
        "outputId": "7cb514bc-cbc5-4eb5-bf22-0b0ecfaac948"
      },
      "execution_count": 17,
      "outputs": [
        {
          "output_type": "stream",
          "name": "stdout",
          "text": [
            "Index of cat: 1\n"
          ]
        }
      ]
    },
    {
      "cell_type": "code",
      "source": [
        "#15. Write a code to create a tuple containing three different fruits and check if \"kiwi\" is in it?\n",
        "fruits = ('apple', 'banana', 'kiwi')\n",
        "is_kiwi_present = 'kiwi' in fruits\n",
        "print(\"Is kiwi in fruits?:\", is_kiwi_present)"
      ],
      "metadata": {
        "colab": {
          "base_uri": "https://localhost:8080/"
        },
        "id": "On-RSI_rfbU3",
        "outputId": "ee4d8579-a6b0-4420-fc2e-2d08ec333829"
      },
      "execution_count": 19,
      "outputs": [
        {
          "output_type": "stream",
          "name": "stdout",
          "text": [
            "Is kiwi in fruits?: True\n"
          ]
        }
      ]
    },
    {
      "cell_type": "code",
      "source": [
        "#16. Write a code to create a set with the elements 'a', 'b', 'c' and print it.\n",
        "my_set = {'a', 'b', 'c'}\n",
        "print(\"Set:\", my_set)"
      ],
      "metadata": {
        "colab": {
          "base_uri": "https://localhost:8080/"
        },
        "id": "yGGGip1mfzP2",
        "outputId": "2017a20a-a357-4d02-fb8f-558fb1d8e70b"
      },
      "execution_count": 20,
      "outputs": [
        {
          "output_type": "stream",
          "name": "stdout",
          "text": [
            "Set: {'c', 'b', 'a'}\n"
          ]
        }
      ]
    },
    {
      "cell_type": "code",
      "source": [
        "#17.Write a code to clear all elements from the set {1, 2, 3, 4, 5}.\n",
        "my_set = {1, 2, 3, 4, 5}\n",
        "my_set.clear()\n",
        "print(\"Set after cleared:\", my_set)"
      ],
      "metadata": {
        "colab": {
          "base_uri": "https://localhost:8080/"
        },
        "id": "WHGV9wxXf_Pu",
        "outputId": "e652133e-920e-4bb2-fef7-dcecd591fae8"
      },
      "execution_count": 22,
      "outputs": [
        {
          "output_type": "stream",
          "name": "stdout",
          "text": [
            "Set after cleared: set()\n"
          ]
        }
      ]
    },
    {
      "cell_type": "code",
      "source": [
        "#18. Write a code to remove the element 4 from the set {1, 2, 3, 4}\n",
        "my_set = {1, 2, 3, 4}\n",
        "my_set.remove(4)\n",
        "print(\"Set after removing 4:\", my_set)"
      ],
      "metadata": {
        "colab": {
          "base_uri": "https://localhost:8080/"
        },
        "id": "oeOtUbnWgLlt",
        "outputId": "17102b25-ff6d-4b82-de7d-d8cafdc10141"
      },
      "execution_count": 23,
      "outputs": [
        {
          "output_type": "stream",
          "name": "stdout",
          "text": [
            "Set after removing 4: {1, 2, 3}\n"
          ]
        }
      ]
    },
    {
      "cell_type": "code",
      "source": [
        "#19. Write a code to find the union of two sets {1, 2, 3} and {3, 4, 5}.\n",
        "set1 = {1, 2, 3}\n",
        "set2 = {3, 4, 5}\n",
        "union_set = set1.union(set2)\n",
        "print(\"Union of sets:\", union_set)"
      ],
      "metadata": {
        "colab": {
          "base_uri": "https://localhost:8080/"
        },
        "id": "49pu77NegUl8",
        "outputId": "fe9ebe35-e7f2-4db5-b5dc-67109b4bf47a"
      },
      "execution_count": 24,
      "outputs": [
        {
          "output_type": "stream",
          "name": "stdout",
          "text": [
            "Union of sets: {1, 2, 3, 4, 5}\n"
          ]
        }
      ]
    },
    {
      "cell_type": "code",
      "source": [
        "#20.Write a code to find the intersection of two sets {1, 2, 3} and {2, 3, 4}\n",
        "set1 = {1, 2, 3}\n",
        "set2 = {2, 3, 4}\n",
        "intersection_set = set1.intersection(set2)\n",
        "print(\"Intersection of sets:\", intersection_set)"
      ],
      "metadata": {
        "colab": {
          "base_uri": "https://localhost:8080/"
        },
        "id": "UWqccoUcgdBS",
        "outputId": "3373bb4f-55b1-4a6a-81c3-37e1b8856fe4"
      },
      "execution_count": 25,
      "outputs": [
        {
          "output_type": "stream",
          "name": "stdout",
          "text": [
            "Intersection of sets: {2, 3}\n"
          ]
        }
      ]
    },
    {
      "cell_type": "code",
      "source": [
        "#21 Write a code to create a dictionary with the keys \"name\", \"age\", and \"city\", and print it.\n",
        "person = {\"name\": \"Sakshi\", \"age\": 20, \"city\": \"SPN\"}\n",
        "print(\"Dictionary:\", person)\n"
      ],
      "metadata": {
        "colab": {
          "base_uri": "https://localhost:8080/"
        },
        "id": "p2wH0T1egpv8",
        "outputId": "90c45b92-be3b-4187-e7c0-eb639ac2af06"
      },
      "execution_count": 27,
      "outputs": [
        {
          "output_type": "stream",
          "name": "stdout",
          "text": [
            "Dictionary: {'name': 'Sakshi', 'age': 20, 'city': 'SPN'}\n"
          ]
        }
      ]
    },
    {
      "cell_type": "code",
      "source": [
        "#22. Write a code to add a new key-value pair \"country\": \"USA\" to the dictionary {'name': 'John', 'age': 25}.\n",
        "person = {'name': 'John', 'age': 25}\n",
        "person[\"country\"] = \"USA\"\n",
        "print(\"Updated dictionary:\", person)\n"
      ],
      "metadata": {
        "colab": {
          "base_uri": "https://localhost:8080/"
        },
        "id": "zHaef1rmgq9Y",
        "outputId": "e72bd66a-eaad-4a8d-85b9-a947f28402de"
      },
      "execution_count": 28,
      "outputs": [
        {
          "output_type": "stream",
          "name": "stdout",
          "text": [
            "Updated dictionary: {'name': 'John', 'age': 25, 'country': 'USA'}\n"
          ]
        }
      ]
    },
    {
      "cell_type": "code",
      "source": [
        "#23.Write a code to access the value associated with the key \"name\" in the dictionary {'name': 'Alice', 'age': 30}.\n",
        "erson = {'name': 'Alice', 'age': 30}\n",
        "print(\"Value of 'name':\", person[\"name\"])\n"
      ],
      "metadata": {
        "colab": {
          "base_uri": "https://localhost:8080/"
        },
        "id": "uzLF1Zapgr3Y",
        "outputId": "8a203456-359f-467c-9dbf-971e9a69e069"
      },
      "execution_count": 29,
      "outputs": [
        {
          "output_type": "stream",
          "name": "stdout",
          "text": [
            "Value of 'name': John\n"
          ]
        }
      ]
    },
    {
      "cell_type": "code",
      "source": [
        "#24. Write a code to remove the key \"age\" from the dictionary {'name': 'Bob', 'age': 22, 'city': 'New York'}.\n",
        "person = {'name': 'Bob', 'age': 22, 'city': 'New York'}\n",
        "person.pop(\"age\")\n",
        "print(\"Dictionary after removing 'age':\", person)\n"
      ],
      "metadata": {
        "colab": {
          "base_uri": "https://localhost:8080/"
        },
        "id": "o-4I7I5QgsxK",
        "outputId": "e3e2535d-624b-4748-ecdc-246a4511e68d"
      },
      "execution_count": 30,
      "outputs": [
        {
          "output_type": "stream",
          "name": "stdout",
          "text": [
            "Dictionary after removing 'age': {'name': 'Bob', 'city': 'New York'}\n"
          ]
        }
      ]
    },
    {
      "cell_type": "code",
      "source": [
        "#25. Write a code to check if the key \"city\" exists in the dictionary {'name': 'Alice', 'city': 'Paris'}.\n",
        "person = {'name': 'Alice', 'city': 'Paris'}\n",
        "print(\"Is city a key?\", \"city\" in person)"
      ],
      "metadata": {
        "colab": {
          "base_uri": "https://localhost:8080/"
        },
        "id": "5f4XhQEIgt77",
        "outputId": "a04b9eb7-80c1-495f-fb4f-688d3c4797ca"
      },
      "execution_count": 32,
      "outputs": [
        {
          "output_type": "stream",
          "name": "stdout",
          "text": [
            "Is city a key? True\n"
          ]
        }
      ]
    },
    {
      "cell_type": "code",
      "source": [
        "#26. Write a code to create a list, a tuple, and a dictionary, and print them all.\n",
        "my_list = [1, 2, 3]\n",
        "my_tuple = ('a', 'b', 'c')\n",
        "my_dict = {'x': 10, 'y': 20}\n",
        "\n",
        "print(\"List:\", my_list)\n",
        "print(\"Tuple:\", my_tuple)\n",
        "print(\"Dictionary:\", my_dict)"
      ],
      "metadata": {
        "colab": {
          "base_uri": "https://localhost:8080/"
        },
        "id": "ihUVIafpgvkZ",
        "outputId": "f6100ae6-1e05-441c-f274-2ad514a9895b"
      },
      "execution_count": 33,
      "outputs": [
        {
          "output_type": "stream",
          "name": "stdout",
          "text": [
            "List: [1, 2, 3]\n",
            "Tuple: ('a', 'b', 'c')\n",
            "Dictionary: {'x': 10, 'y': 20}\n"
          ]
        }
      ]
    },
    {
      "cell_type": "code",
      "source": [
        "#27. Write a code to create a list of 5 random numbers between 1 and 100, sort it in ascending order, and print the result.(replaced)?\n",
        "\n",
        "import random\n",
        "\n",
        "numbers = random.sample(range(1, 101), 5)\n",
        "numbers.sort()\n",
        "print(\"Sorted random numbers:\", numbers)"
      ],
      "metadata": {
        "colab": {
          "base_uri": "https://localhost:8080/"
        },
        "id": "ftYwSo02gw3p",
        "outputId": "fde61529-bf23-4b2f-8468-1e60f4742d9c"
      },
      "execution_count": 34,
      "outputs": [
        {
          "output_type": "stream",
          "name": "stdout",
          "text": [
            "Sorted random numbers: [1, 59, 66, 84, 97]\n"
          ]
        }
      ]
    },
    {
      "cell_type": "code",
      "source": [
        "#28.  Write a code to create a list with strings and print the element at the third index.\n",
        "words = [\"apple\", \"banana\", \"cherry\", \"date\", \"fig\"]\n",
        "print(\"Element at index 3:\", words[3])"
      ],
      "metadata": {
        "colab": {
          "base_uri": "https://localhost:8080/"
        },
        "id": "bJ38sG2Wgx5R",
        "outputId": "55093d94-8961-4aeb-c7cb-5702284ea7b8"
      },
      "execution_count": 35,
      "outputs": [
        {
          "output_type": "stream",
          "name": "stdout",
          "text": [
            "Element at index 3: date\n"
          ]
        }
      ]
    },
    {
      "cell_type": "code",
      "source": [
        "#29. Write a code to combine two dictionaries into one and print the result.\n",
        "dict1 = {'a': 1, 'b': 2}\n",
        "dict2 = {'c': 3, 'd': 4}\n",
        "combined = {**dict1, **dict2}\n",
        "print(\"Combined dictionary:\", combined)"
      ],
      "metadata": {
        "colab": {
          "base_uri": "https://localhost:8080/"
        },
        "id": "8Js-zB3ugyxS",
        "outputId": "58461e9f-61c0-4881-8927-e87067259bcd"
      },
      "execution_count": 36,
      "outputs": [
        {
          "output_type": "stream",
          "name": "stdout",
          "text": [
            "Combined dictionary: {'a': 1, 'b': 2, 'c': 3, 'd': 4}\n"
          ]
        }
      ]
    }
  ]
}